{
 "cells": [
  {
   "cell_type": "code",
   "execution_count": 1,
   "metadata": {
    "collapsed": true
   },
   "outputs": [],
   "source": [
    "import pandas as pd\n",
    "import numpy as np"
   ]
  },
  {
   "cell_type": "code",
   "execution_count": 2,
   "metadata": {
    "collapsed": false
   },
   "outputs": [],
   "source": [
    "article = pd.read_csv('/Users/viswanathravindran/AVDatahack/NewsArticle/article.csv')\n",
    "user = pd.read_csv('/Users/viswanathravindran/AVDatahack/NewsArticle/user.csv')\n",
    "train = pd.read_csv('/Users/viswanathravindran/AVDatahack/NewsArticle/train.csv')\n",
    "test = pd.read_csv('/Users/viswanathravindran/AVDatahack/NewsArticle/test.csv')"
   ]
  },
  {
   "cell_type": "code",
   "execution_count": 3,
   "metadata": {
    "collapsed": false
   },
   "outputs": [
    {
     "data": {
      "text/html": [
       "<div>\n",
       "<table border=\"1\" class=\"dataframe\">\n",
       "  <thead>\n",
       "    <tr style=\"text-align: right;\">\n",
       "      <th></th>\n",
       "      <th>User_ID</th>\n",
       "      <th>Article_ID</th>\n",
       "      <th>ID</th>\n",
       "    </tr>\n",
       "  </thead>\n",
       "  <tbody>\n",
       "    <tr>\n",
       "      <th>0</th>\n",
       "      <td>20080822161</td>\n",
       "      <td>1219173561</td>\n",
       "      <td>20080822161_1219173561</td>\n",
       "    </tr>\n",
       "    <tr>\n",
       "      <th>1</th>\n",
       "      <td>20080839116</td>\n",
       "      <td>1219217951</td>\n",
       "      <td>20080839116_1219217951</td>\n",
       "    </tr>\n",
       "    <tr>\n",
       "      <th>2</th>\n",
       "      <td>20080831336</td>\n",
       "      <td>1219224091</td>\n",
       "      <td>20080831336_1219224091</td>\n",
       "    </tr>\n",
       "    <tr>\n",
       "      <th>3</th>\n",
       "      <td>20080820936</td>\n",
       "      <td>1219186943</td>\n",
       "      <td>20080820936_1219186943</td>\n",
       "    </tr>\n",
       "    <tr>\n",
       "      <th>4</th>\n",
       "      <td>20080823287</td>\n",
       "      <td>1219165896</td>\n",
       "      <td>20080823287_1219165896</td>\n",
       "    </tr>\n",
       "  </tbody>\n",
       "</table>\n",
       "</div>"
      ],
      "text/plain": [
       "       User_ID  Article_ID                      ID\n",
       "0  20080822161  1219173561  20080822161_1219173561\n",
       "1  20080839116  1219217951  20080839116_1219217951\n",
       "2  20080831336  1219224091  20080831336_1219224091\n",
       "3  20080820936  1219186943  20080820936_1219186943\n",
       "4  20080823287  1219165896  20080823287_1219165896"
      ]
     },
     "execution_count": 3,
     "metadata": {},
     "output_type": "execute_result"
    }
   ],
   "source": [
    "test.head()"
   ]
  },
  {
   "cell_type": "code",
   "execution_count": 4,
   "metadata": {
    "collapsed": false
   },
   "outputs": [
    {
     "data": {
      "text/html": [
       "<div>\n",
       "<table border=\"1\" class=\"dataframe\">\n",
       "  <thead>\n",
       "    <tr style=\"text-align: right;\">\n",
       "      <th></th>\n",
       "      <th>Article_ID</th>\n",
       "      <th>VintageMonths</th>\n",
       "      <th>NumberOfArticlesBySameAuthor</th>\n",
       "      <th>NumberOfArticlesinSameCategory</th>\n",
       "    </tr>\n",
       "  </thead>\n",
       "  <tbody>\n",
       "    <tr>\n",
       "      <th>0</th>\n",
       "      <td>1219098423</td>\n",
       "      <td>10.0</td>\n",
       "      <td>3</td>\n",
       "      <td>503</td>\n",
       "    </tr>\n",
       "    <tr>\n",
       "      <th>1</th>\n",
       "      <td>1219098424</td>\n",
       "      <td>9.0</td>\n",
       "      <td>3</td>\n",
       "      <td>503</td>\n",
       "    </tr>\n",
       "    <tr>\n",
       "      <th>2</th>\n",
       "      <td>1219098425</td>\n",
       "      <td>10.0</td>\n",
       "      <td>46</td>\n",
       "      <td>503</td>\n",
       "    </tr>\n",
       "    <tr>\n",
       "      <th>3</th>\n",
       "      <td>1219098426</td>\n",
       "      <td>9.0</td>\n",
       "      <td>46</td>\n",
       "      <td>503</td>\n",
       "    </tr>\n",
       "    <tr>\n",
       "      <th>4</th>\n",
       "      <td>1219098427</td>\n",
       "      <td>9.0</td>\n",
       "      <td>38</td>\n",
       "      <td>503</td>\n",
       "    </tr>\n",
       "  </tbody>\n",
       "</table>\n",
       "</div>"
      ],
      "text/plain": [
       "   Article_ID  VintageMonths  NumberOfArticlesBySameAuthor  \\\n",
       "0  1219098423           10.0                             3   \n",
       "1  1219098424            9.0                             3   \n",
       "2  1219098425           10.0                            46   \n",
       "3  1219098426            9.0                            46   \n",
       "4  1219098427            9.0                            38   \n",
       "\n",
       "   NumberOfArticlesinSameCategory  \n",
       "0                             503  \n",
       "1                             503  \n",
       "2                             503  \n",
       "3                             503  \n",
       "4                             503  "
      ]
     },
     "execution_count": 4,
     "metadata": {},
     "output_type": "execute_result"
    }
   ],
   "source": [
    "article.head()"
   ]
  },
  {
   "cell_type": "code",
   "execution_count": 5,
   "metadata": {
    "collapsed": false
   },
   "outputs": [
    {
     "name": "stdout",
     "output_type": "stream",
     "text": [
      "Shape of the dataset is : (261758, 4)\n",
      "No.of Null in VintageMonths:- 4659\n",
      "No.of Null in NumberOfArticlesBySameAuthor:- 0\n",
      "No.of Null in NumberOfArticlesinSameCategory:- 0\n"
     ]
    }
   ],
   "source": [
    "print 'Shape of the dataset is :', article.shape\n",
    "print 'No.of Null in VintageMonths:-', sum(pd.isnull(article['VintageMonths']))\n",
    "print 'No.of Null in NumberOfArticlesBySameAuthor:-', sum(pd.isnull(article['NumberOfArticlesBySameAuthor']))\n",
    "print 'No.of Null in NumberOfArticlesinSameCategory:-', sum(pd.isnull(article['NumberOfArticlesinSameCategory']))"
   ]
  },
  {
   "cell_type": "code",
   "execution_count": 6,
   "metadata": {
    "collapsed": false
   },
   "outputs": [
    {
     "data": {
      "text/plain": [
       "10.0    17123\n",
       "13.0    16976\n",
       "11.0    16901\n",
       "12.0    16883\n",
       "14.0    15361\n",
       "Name: VintageMonths, dtype: int64"
      ]
     },
     "execution_count": 6,
     "metadata": {},
     "output_type": "execute_result"
    }
   ],
   "source": [
    "article.VintageMonths.value_counts().head()"
   ]
  },
  {
   "cell_type": "code",
   "execution_count": 7,
   "metadata": {
    "collapsed": false
   },
   "outputs": [],
   "source": [
    "#Remove the comment to rerun\n",
    "#mn = article.VintageMonths.median()\n",
    "#print mn\n",
    "article['VintageMonths'] = article['VintageMonths'].fillna('16')"
   ]
  },
  {
   "cell_type": "code",
   "execution_count": 8,
   "metadata": {
    "collapsed": false
   },
   "outputs": [
    {
     "name": "stdout",
     "output_type": "stream",
     "text": [
      "Shape of the dataset is : (261758, 4)\n",
      "No.of Null in VintageMonths:- 0\n",
      "No.of Null in NumberOfArticlesBySameAuthor:- 0\n",
      "No.of Null in NumberOfArticlesinSameCategory:- 0\n"
     ]
    }
   ],
   "source": [
    "print 'Shape of the dataset is :', article.shape\n",
    "print 'No.of Null in VintageMonths:-', sum(pd.isnull(article['VintageMonths']))\n",
    "print 'No.of Null in NumberOfArticlesBySameAuthor:-', sum(pd.isnull(article['NumberOfArticlesBySameAuthor']))\n",
    "print 'No.of Null in NumberOfArticlesinSameCategory:-', sum(pd.isnull(article['NumberOfArticlesinSameCategory']))"
   ]
  },
  {
   "cell_type": "code",
   "execution_count": 9,
   "metadata": {
    "collapsed": false
   },
   "outputs": [
    {
     "data": {
      "text/html": [
       "<div>\n",
       "<table border=\"1\" class=\"dataframe\">\n",
       "  <thead>\n",
       "    <tr style=\"text-align: right;\">\n",
       "      <th></th>\n",
       "      <th>User_ID</th>\n",
       "      <th>Var1</th>\n",
       "      <th>Age</th>\n",
       "    </tr>\n",
       "  </thead>\n",
       "  <tbody>\n",
       "    <tr>\n",
       "      <th>0</th>\n",
       "      <td>20080820123</td>\n",
       "      <td>A</td>\n",
       "      <td>NaN</td>\n",
       "    </tr>\n",
       "    <tr>\n",
       "      <th>1</th>\n",
       "      <td>20080820124</td>\n",
       "      <td>A</td>\n",
       "      <td>20-30</td>\n",
       "    </tr>\n",
       "    <tr>\n",
       "      <th>2</th>\n",
       "      <td>20080820125</td>\n",
       "      <td>A</td>\n",
       "      <td>30-40</td>\n",
       "    </tr>\n",
       "    <tr>\n",
       "      <th>3</th>\n",
       "      <td>20080820126</td>\n",
       "      <td>A</td>\n",
       "      <td>Less tha 15</td>\n",
       "    </tr>\n",
       "    <tr>\n",
       "      <th>4</th>\n",
       "      <td>20080820127</td>\n",
       "      <td>A</td>\n",
       "      <td>NaN</td>\n",
       "    </tr>\n",
       "  </tbody>\n",
       "</table>\n",
       "</div>"
      ],
      "text/plain": [
       "       User_ID Var1          Age\n",
       "0  20080820123    A          NaN\n",
       "1  20080820124    A        20-30\n",
       "2  20080820125    A        30-40\n",
       "3  20080820126    A  Less tha 15\n",
       "4  20080820127    A          NaN"
      ]
     },
     "execution_count": 9,
     "metadata": {},
     "output_type": "execute_result"
    }
   ],
   "source": [
    "user.head()"
   ]
  },
  {
   "cell_type": "code",
   "execution_count": 10,
   "metadata": {
    "collapsed": false
   },
   "outputs": [
    {
     "name": "stdout",
     "output_type": "stream",
     "text": [
      "Shape of the dataset is : (89502, 3)\n",
      "No.of Null in Var1:- 2909\n",
      "No.of Null in Age:- 37267\n"
     ]
    }
   ],
   "source": [
    "print 'Shape of the dataset is :', user.shape\n",
    "print 'No.of Null in Var1:-', sum(pd.isnull(user['Var1']))\n",
    "print 'No.of Null in Age:-',  sum(pd.isnull(user['Age']))"
   ]
  },
  {
   "cell_type": "code",
   "execution_count": 11,
   "metadata": {
    "collapsed": false
   },
   "outputs": [
    {
     "data": {
      "text/plain": [
       "A    56220\n",
       "B     8613\n",
       "C     5026\n",
       "D     4119\n",
       "F     2562\n",
       "Name: Var1, dtype: int64"
      ]
     },
     "execution_count": 11,
     "metadata": {},
     "output_type": "execute_result"
    }
   ],
   "source": [
    "user.Var1.value_counts().head()"
   ]
  },
  {
   "cell_type": "code",
   "execution_count": 12,
   "metadata": {
    "collapsed": true
   },
   "outputs": [],
   "source": [
    "user['Var1'] = user['Var1'].fillna('A')"
   ]
  },
  {
   "cell_type": "code",
   "execution_count": 13,
   "metadata": {
    "collapsed": false
   },
   "outputs": [
    {
     "name": "stdout",
     "output_type": "stream",
     "text": [
      "20-30           14489\n",
      "30-40           13857\n",
      "40-50            8711\n",
      "50-60            6330\n",
      "15-20            4329\n",
      "60-70            2450\n",
      "Less tha 15      1246\n",
      "More than 70      823\n",
      "Name: Age, dtype: int64\n",
      "<class 'pandas.core.series.Series'>\n"
     ]
    }
   ],
   "source": [
    "print user.Age.value_counts()\n",
    "print type(user.Age)"
   ]
  },
  {
   "cell_type": "code",
   "execution_count": 14,
   "metadata": {
    "collapsed": true
   },
   "outputs": [],
   "source": [
    "user['Age'] = user['Age'].fillna('unknown')"
   ]
  },
  {
   "cell_type": "code",
   "execution_count": 15,
   "metadata": {
    "collapsed": false
   },
   "outputs": [
    {
     "name": "stdout",
     "output_type": "stream",
     "text": [
      "Shape of the dataset is : (89502, 3)\n",
      "No.of Null in Var1:- 0\n",
      "No.of Null in Age:- 0\n"
     ]
    }
   ],
   "source": [
    "print 'Shape of the dataset is :', user.shape\n",
    "print 'No.of Null in Var1:-', sum(pd.isnull(user['Var1']))\n",
    "print 'No.of Null in Age:-',  sum(pd.isnull(user['Age']))"
   ]
  },
  {
   "cell_type": "code",
   "execution_count": 16,
   "metadata": {
    "collapsed": false
   },
   "outputs": [
    {
     "data": {
      "text/html": [
       "<div>\n",
       "<table border=\"1\" class=\"dataframe\">\n",
       "  <thead>\n",
       "    <tr style=\"text-align: right;\">\n",
       "      <th></th>\n",
       "      <th>User_ID</th>\n",
       "      <th>Article_ID</th>\n",
       "      <th>Rating</th>\n",
       "      <th>ID</th>\n",
       "    </tr>\n",
       "  </thead>\n",
       "  <tbody>\n",
       "    <tr>\n",
       "      <th>0</th>\n",
       "      <td>20080828074</td>\n",
       "      <td>1219102233</td>\n",
       "      <td>0</td>\n",
       "      <td>20080828074_1219102233</td>\n",
       "    </tr>\n",
       "    <tr>\n",
       "      <th>1</th>\n",
       "      <td>20080851125</td>\n",
       "      <td>1219110304</td>\n",
       "      <td>6</td>\n",
       "      <td>20080851125_1219110304</td>\n",
       "    </tr>\n",
       "    <tr>\n",
       "      <th>2</th>\n",
       "      <td>20080820760</td>\n",
       "      <td>1219151095</td>\n",
       "      <td>0</td>\n",
       "      <td>20080820760_1219151095</td>\n",
       "    </tr>\n",
       "    <tr>\n",
       "      <th>3</th>\n",
       "      <td>20080824760</td>\n",
       "      <td>1219295837</td>\n",
       "      <td>5</td>\n",
       "      <td>20080824760_1219295837</td>\n",
       "    </tr>\n",
       "    <tr>\n",
       "      <th>4</th>\n",
       "      <td>20080883177</td>\n",
       "      <td>1219209257</td>\n",
       "      <td>4</td>\n",
       "      <td>20080883177_1219209257</td>\n",
       "    </tr>\n",
       "  </tbody>\n",
       "</table>\n",
       "</div>"
      ],
      "text/plain": [
       "       User_ID  Article_ID  Rating                      ID\n",
       "0  20080828074  1219102233       0  20080828074_1219102233\n",
       "1  20080851125  1219110304       6  20080851125_1219110304\n",
       "2  20080820760  1219151095       0  20080820760_1219151095\n",
       "3  20080824760  1219295837       5  20080824760_1219295837\n",
       "4  20080883177  1219209257       4  20080883177_1219209257"
      ]
     },
     "execution_count": 16,
     "metadata": {},
     "output_type": "execute_result"
    }
   ],
   "source": [
    "train.head()"
   ]
  },
  {
   "cell_type": "code",
   "execution_count": 17,
   "metadata": {
    "collapsed": false
   },
   "outputs": [
    {
     "data": {
      "text/html": [
       "<div>\n",
       "<table border=\"1\" class=\"dataframe\">\n",
       "  <thead>\n",
       "    <tr style=\"text-align: right;\">\n",
       "      <th></th>\n",
       "      <th>User_ID</th>\n",
       "      <th>Article_ID</th>\n",
       "      <th>ID</th>\n",
       "    </tr>\n",
       "  </thead>\n",
       "  <tbody>\n",
       "    <tr>\n",
       "      <th>0</th>\n",
       "      <td>20080822161</td>\n",
       "      <td>1219173561</td>\n",
       "      <td>20080822161_1219173561</td>\n",
       "    </tr>\n",
       "    <tr>\n",
       "      <th>1</th>\n",
       "      <td>20080839116</td>\n",
       "      <td>1219217951</td>\n",
       "      <td>20080839116_1219217951</td>\n",
       "    </tr>\n",
       "    <tr>\n",
       "      <th>2</th>\n",
       "      <td>20080831336</td>\n",
       "      <td>1219224091</td>\n",
       "      <td>20080831336_1219224091</td>\n",
       "    </tr>\n",
       "    <tr>\n",
       "      <th>3</th>\n",
       "      <td>20080820936</td>\n",
       "      <td>1219186943</td>\n",
       "      <td>20080820936_1219186943</td>\n",
       "    </tr>\n",
       "    <tr>\n",
       "      <th>4</th>\n",
       "      <td>20080823287</td>\n",
       "      <td>1219165896</td>\n",
       "      <td>20080823287_1219165896</td>\n",
       "    </tr>\n",
       "  </tbody>\n",
       "</table>\n",
       "</div>"
      ],
      "text/plain": [
       "       User_ID  Article_ID                      ID\n",
       "0  20080822161  1219173561  20080822161_1219173561\n",
       "1  20080839116  1219217951  20080839116_1219217951\n",
       "2  20080831336  1219224091  20080831336_1219224091\n",
       "3  20080820936  1219186943  20080820936_1219186943\n",
       "4  20080823287  1219165896  20080823287_1219165896"
      ]
     },
     "execution_count": 17,
     "metadata": {},
     "output_type": "execute_result"
    }
   ],
   "source": [
    "test.head()"
   ]
  },
  {
   "cell_type": "code",
   "execution_count": 18,
   "metadata": {
    "collapsed": false
   },
   "outputs": [],
   "source": [
    "ntrain = train.merge(user, on='User_ID', how='left')"
   ]
  },
  {
   "cell_type": "code",
   "execution_count": 19,
   "metadata": {
    "collapsed": false
   },
   "outputs": [
    {
     "data": {
      "text/html": [
       "<div>\n",
       "<table border=\"1\" class=\"dataframe\">\n",
       "  <thead>\n",
       "    <tr style=\"text-align: right;\">\n",
       "      <th></th>\n",
       "      <th>User_ID</th>\n",
       "      <th>Article_ID</th>\n",
       "      <th>Rating</th>\n",
       "      <th>ID</th>\n",
       "      <th>Var1</th>\n",
       "      <th>Age</th>\n",
       "    </tr>\n",
       "  </thead>\n",
       "  <tbody>\n",
       "    <tr>\n",
       "      <th>0</th>\n",
       "      <td>20080828074</td>\n",
       "      <td>1219102233</td>\n",
       "      <td>0</td>\n",
       "      <td>20080828074_1219102233</td>\n",
       "      <td>A</td>\n",
       "      <td>30-40</td>\n",
       "    </tr>\n",
       "    <tr>\n",
       "      <th>1</th>\n",
       "      <td>20080851125</td>\n",
       "      <td>1219110304</td>\n",
       "      <td>6</td>\n",
       "      <td>20080851125_1219110304</td>\n",
       "      <td>A</td>\n",
       "      <td>30-40</td>\n",
       "    </tr>\n",
       "    <tr>\n",
       "      <th>2</th>\n",
       "      <td>20080820760</td>\n",
       "      <td>1219151095</td>\n",
       "      <td>0</td>\n",
       "      <td>20080820760_1219151095</td>\n",
       "      <td>A</td>\n",
       "      <td>30-40</td>\n",
       "    </tr>\n",
       "    <tr>\n",
       "      <th>3</th>\n",
       "      <td>20080824760</td>\n",
       "      <td>1219295837</td>\n",
       "      <td>5</td>\n",
       "      <td>20080824760_1219295837</td>\n",
       "      <td>A</td>\n",
       "      <td>20-30</td>\n",
       "    </tr>\n",
       "    <tr>\n",
       "      <th>4</th>\n",
       "      <td>20080883177</td>\n",
       "      <td>1219209257</td>\n",
       "      <td>4</td>\n",
       "      <td>20080883177_1219209257</td>\n",
       "      <td>A</td>\n",
       "      <td>30-40</td>\n",
       "    </tr>\n",
       "  </tbody>\n",
       "</table>\n",
       "</div>"
      ],
      "text/plain": [
       "       User_ID  Article_ID  Rating                      ID Var1    Age\n",
       "0  20080828074  1219102233       0  20080828074_1219102233    A  30-40\n",
       "1  20080851125  1219110304       6  20080851125_1219110304    A  30-40\n",
       "2  20080820760  1219151095       0  20080820760_1219151095    A  30-40\n",
       "3  20080824760  1219295837       5  20080824760_1219295837    A  20-30\n",
       "4  20080883177  1219209257       4  20080883177_1219209257    A  30-40"
      ]
     },
     "execution_count": 19,
     "metadata": {},
     "output_type": "execute_result"
    }
   ],
   "source": [
    "ntrain.head()"
   ]
  },
  {
   "cell_type": "code",
   "execution_count": 20,
   "metadata": {
    "collapsed": false
   },
   "outputs": [],
   "source": [
    "ftrain = ntrain.merge(article, on='Article_ID', how='left')"
   ]
  },
  {
   "cell_type": "code",
   "execution_count": 21,
   "metadata": {
    "collapsed": false
   },
   "outputs": [
    {
     "data": {
      "text/html": [
       "<div>\n",
       "<table border=\"1\" class=\"dataframe\">\n",
       "  <thead>\n",
       "    <tr style=\"text-align: right;\">\n",
       "      <th></th>\n",
       "      <th>User_ID</th>\n",
       "      <th>Article_ID</th>\n",
       "      <th>Rating</th>\n",
       "      <th>ID</th>\n",
       "      <th>Var1</th>\n",
       "      <th>Age</th>\n",
       "      <th>VintageMonths</th>\n",
       "      <th>NumberOfArticlesBySameAuthor</th>\n",
       "      <th>NumberOfArticlesinSameCategory</th>\n",
       "    </tr>\n",
       "  </thead>\n",
       "  <tbody>\n",
       "    <tr>\n",
       "      <th>0</th>\n",
       "      <td>20080828074</td>\n",
       "      <td>1219102233</td>\n",
       "      <td>0</td>\n",
       "      <td>20080828074_1219102233</td>\n",
       "      <td>A</td>\n",
       "      <td>30-40</td>\n",
       "      <td>25</td>\n",
       "      <td>88</td>\n",
       "      <td>289</td>\n",
       "    </tr>\n",
       "    <tr>\n",
       "      <th>1</th>\n",
       "      <td>20080851125</td>\n",
       "      <td>1219110304</td>\n",
       "      <td>6</td>\n",
       "      <td>20080851125_1219110304</td>\n",
       "      <td>A</td>\n",
       "      <td>30-40</td>\n",
       "      <td>12</td>\n",
       "      <td>37</td>\n",
       "      <td>465</td>\n",
       "    </tr>\n",
       "    <tr>\n",
       "      <th>2</th>\n",
       "      <td>20080820760</td>\n",
       "      <td>1219151095</td>\n",
       "      <td>0</td>\n",
       "      <td>20080820760_1219151095</td>\n",
       "      <td>A</td>\n",
       "      <td>30-40</td>\n",
       "      <td>23</td>\n",
       "      <td>156</td>\n",
       "      <td>187</td>\n",
       "    </tr>\n",
       "    <tr>\n",
       "      <th>3</th>\n",
       "      <td>20080824760</td>\n",
       "      <td>1219295837</td>\n",
       "      <td>5</td>\n",
       "      <td>20080824760_1219295837</td>\n",
       "      <td>A</td>\n",
       "      <td>20-30</td>\n",
       "      <td>9</td>\n",
       "      <td>3</td>\n",
       "      <td>159</td>\n",
       "    </tr>\n",
       "    <tr>\n",
       "      <th>4</th>\n",
       "      <td>20080883177</td>\n",
       "      <td>1219209257</td>\n",
       "      <td>4</td>\n",
       "      <td>20080883177_1219209257</td>\n",
       "      <td>A</td>\n",
       "      <td>30-40</td>\n",
       "      <td>16</td>\n",
       "      <td>2</td>\n",
       "      <td>161</td>\n",
       "    </tr>\n",
       "  </tbody>\n",
       "</table>\n",
       "</div>"
      ],
      "text/plain": [
       "       User_ID  Article_ID  Rating                      ID Var1    Age  \\\n",
       "0  20080828074  1219102233       0  20080828074_1219102233    A  30-40   \n",
       "1  20080851125  1219110304       6  20080851125_1219110304    A  30-40   \n",
       "2  20080820760  1219151095       0  20080820760_1219151095    A  30-40   \n",
       "3  20080824760  1219295837       5  20080824760_1219295837    A  20-30   \n",
       "4  20080883177  1219209257       4  20080883177_1219209257    A  30-40   \n",
       "\n",
       "  VintageMonths  NumberOfArticlesBySameAuthor  NumberOfArticlesinSameCategory  \n",
       "0            25                            88                             289  \n",
       "1            12                            37                             465  \n",
       "2            23                           156                             187  \n",
       "3             9                             3                             159  \n",
       "4            16                             2                             161  "
      ]
     },
     "execution_count": 21,
     "metadata": {},
     "output_type": "execute_result"
    }
   ],
   "source": [
    "ftrain.head()"
   ]
  },
  {
   "cell_type": "code",
   "execution_count": 22,
   "metadata": {
    "collapsed": false
   },
   "outputs": [
    {
     "data": {
      "text/plain": [
       "0    426703\n",
       "4     59991\n",
       "6     46443\n",
       "3     44700\n",
       "1     41456\n",
       "5     38440\n",
       "2     21318\n",
       "Name: Rating, dtype: int64"
      ]
     },
     "execution_count": 22,
     "metadata": {},
     "output_type": "execute_result"
    }
   ],
   "source": [
    "ftrain.Rating.value_counts()"
   ]
  },
  {
   "cell_type": "code",
   "execution_count": 23,
   "metadata": {
    "collapsed": false
   },
   "outputs": [
    {
     "data": {
      "text/plain": [
       "unknown         173747\n",
       "30-40           168444\n",
       "20-30           129397\n",
       "40-50           101504\n",
       "50-60            60104\n",
       "15-20            17498\n",
       "60-70            16517\n",
       "Less tha 15       6943\n",
       "More than 70      4897\n",
       "Name: Age, dtype: int64"
      ]
     },
     "execution_count": 23,
     "metadata": {},
     "output_type": "execute_result"
    }
   ],
   "source": [
    "ftrain.Age.value_counts()"
   ]
  },
  {
   "cell_type": "code",
   "execution_count": 24,
   "metadata": {
    "collapsed": false
   },
   "outputs": [
    {
     "data": {
      "text/plain": [
       "A        510733\n",
       "B         61024\n",
       "D         22829\n",
       "C         19211\n",
       "F         12439\n",
       "E         10470\n",
       "Other      7998\n",
       "I          7412\n",
       "L          4772\n",
       "J          3762\n",
       "K          3468\n",
       "R          3446\n",
       "M          2953\n",
       "G          2385\n",
       "N          1926\n",
       "Q           820\n",
       "V           770\n",
       "P           647\n",
       "S           585\n",
       "O           527\n",
       "U           434\n",
       "T           262\n",
       "W           178\n",
       "Name: Var1, dtype: int64"
      ]
     },
     "execution_count": 24,
     "metadata": {},
     "output_type": "execute_result"
    }
   ],
   "source": [
    "ftrain.Var1.value_counts()"
   ]
  },
  {
   "cell_type": "code",
   "execution_count": 25,
   "metadata": {
    "collapsed": true
   },
   "outputs": [],
   "source": [
    "ftrain['Var1'] =ftrain['Var1'].replace(['L','J','K','R','M','G', 'N', 'Q', 'V', 'P', 'S', 'O', 'U','T','W'], 'Lowers')"
   ]
  },
  {
   "cell_type": "code",
   "execution_count": 26,
   "metadata": {
    "collapsed": true
   },
   "outputs": [],
   "source": [
    "ftrain['Var1'] = ftrain['Var1'].map({'A':0, 'B':1, 'C':2, 'D':3, 'E':4, 'F':5, 'I':6, 'Lowers':7, 'Other':8}).astype(int)"
   ]
  },
  {
   "cell_type": "code",
   "execution_count": 27,
   "metadata": {
    "collapsed": false
   },
   "outputs": [],
   "source": [
    "ftrain['Age'] = ftrain['Age'].map( {'unknown': 0, '30-40': 1, '20-30': 2, '40-50': 3, '50-60': 4, '15-20':5, '60-70':6, 'Less tha 15': 7, 'More than 70':8} ).astype(int)"
   ]
  },
  {
   "cell_type": "code",
   "execution_count": 28,
   "metadata": {
    "collapsed": false
   },
   "outputs": [
    {
     "data": {
      "image/png": "[encoded data removed]",
      "text/plain": [
       "<matplotlib.figure.Figure at 0x1121befd0>"
      ]
     },
     "metadata": {},
     "output_type": "display_data"
    }
   ],
   "source": [
    "ftrain['VintageMonths'] = ftrain['VintageMonths'].astype(int)\n",
    "import matplotlib.pyplot as plt\n",
    "ftrain.VintageMonths.hist()\n",
    "plt.show()"
   ]
  },
  {
   "cell_type": "code",
   "execution_count": 29,
   "metadata": {
    "collapsed": true
   },
   "outputs": [],
   "source": [
    "def Vint(row):\n",
    "    if row['VintageMonths'] < 10:\n",
    "        return 'VY'\n",
    "    elif row['VintageMonths'] < 20:\n",
    "        return 'Y'\n",
    "    elif row['VintageMonths'] < 30:\n",
    "        return 'M'\n",
    "    elif row['VintageMonths'] < 40:\n",
    "        return 'O'\n",
    "    else:\n",
    "        return 'VO'\n",
    "    \n",
    "ftrain['Vint'] = ftrain.apply(lambda row: Vint(row), axis=1)"
   ]
  },
  {
   "cell_type": "code",
   "execution_count": 31,
   "metadata": {
    "collapsed": true
   },
   "outputs": [],
   "source": [
    "ftrain['CategoricalVint'] = ftrain['Vint'].map( {'VY': 0, 'Y': 1, 'M': 2, 'O': 3, 'VO': 4} ).astype(int)"
   ]
  },
  {
   "cell_type": "code",
   "execution_count": 32,
   "metadata": {
    "collapsed": false
   },
   "outputs": [
    {
     "data": {
      "text/plain": [
       "User_ID                            int64\n",
       "Article_ID                         int64\n",
       "Rating                             int64\n",
       "ID                                object\n",
       "Var1                               int64\n",
       "Age                                int64\n",
       "VintageMonths                      int64\n",
       "NumberOfArticlesBySameAuthor       int64\n",
       "NumberOfArticlesinSameCategory     int64\n",
       "Vint                              object\n",
       "CategoricalVint                    int64\n",
       "dtype: object"
      ]
     },
     "execution_count": 32,
     "metadata": {},
     "output_type": "execute_result"
    }
   ],
   "source": [
    "ftrain.dtypes"
   ]
  },
  {
   "cell_type": "code",
   "execution_count": 33,
   "metadata": {
    "collapsed": false
   },
   "outputs": [
    {
     "data": {
      "text/html": [
       "<div>\n",
       "<table border=\"1\" class=\"dataframe\">\n",
       "  <thead>\n",
       "    <tr style=\"text-align: right;\">\n",
       "      <th></th>\n",
       "      <th>User_ID</th>\n",
       "      <th>Article_ID</th>\n",
       "      <th>Rating</th>\n",
       "      <th>ID</th>\n",
       "      <th>Var1</th>\n",
       "      <th>Age</th>\n",
       "      <th>VintageMonths</th>\n",
       "      <th>NumberOfArticlesBySameAuthor</th>\n",
       "      <th>NumberOfArticlesinSameCategory</th>\n",
       "      <th>Vint</th>\n",
       "      <th>CategoricalVint</th>\n",
       "    </tr>\n",
       "  </thead>\n",
       "  <tbody>\n",
       "    <tr>\n",
       "      <th>0</th>\n",
       "      <td>20080828074</td>\n",
       "      <td>1219102233</td>\n",
       "      <td>0</td>\n",
       "      <td>20080828074_1219102233</td>\n",
       "      <td>0</td>\n",
       "      <td>1</td>\n",
       "      <td>25</td>\n",
       "      <td>88</td>\n",
       "      <td>289</td>\n",
       "      <td>M</td>\n",
       "      <td>2</td>\n",
       "    </tr>\n",
       "    <tr>\n",
       "      <th>1</th>\n",
       "      <td>20080851125</td>\n",
       "      <td>1219110304</td>\n",
       "      <td>6</td>\n",
       "      <td>20080851125_1219110304</td>\n",
       "      <td>0</td>\n",
       "      <td>1</td>\n",
       "      <td>12</td>\n",
       "      <td>37</td>\n",
       "      <td>465</td>\n",
       "      <td>Y</td>\n",
       "      <td>1</td>\n",
       "    </tr>\n",
       "    <tr>\n",
       "      <th>2</th>\n",
       "      <td>20080820760</td>\n",
       "      <td>1219151095</td>\n",
       "      <td>0</td>\n",
       "      <td>20080820760_1219151095</td>\n",
       "      <td>0</td>\n",
       "      <td>1</td>\n",
       "      <td>23</td>\n",
       "      <td>156</td>\n",
       "      <td>187</td>\n",
       "      <td>M</td>\n",
       "      <td>2</td>\n",
       "    </tr>\n",
       "    <tr>\n",
       "      <th>3</th>\n",
       "      <td>20080824760</td>\n",
       "      <td>1219295837</td>\n",
       "      <td>5</td>\n",
       "      <td>20080824760_1219295837</td>\n",
       "      <td>0</td>\n",
       "      <td>2</td>\n",
       "      <td>9</td>\n",
       "      <td>3</td>\n",
       "      <td>159</td>\n",
       "      <td>VY</td>\n",
       "      <td>0</td>\n",
       "    </tr>\n",
       "    <tr>\n",
       "      <th>4</th>\n",
       "      <td>20080883177</td>\n",
       "      <td>1219209257</td>\n",
       "      <td>4</td>\n",
       "      <td>20080883177_1219209257</td>\n",
       "      <td>0</td>\n",
       "      <td>1</td>\n",
       "      <td>16</td>\n",
       "      <td>2</td>\n",
       "      <td>161</td>\n",
       "      <td>Y</td>\n",
       "      <td>1</td>\n",
       "    </tr>\n",
       "  </tbody>\n",
       "</table>\n",
       "</div>"
      ],
      "text/plain": [
       "       User_ID  Article_ID  Rating                      ID  Var1  Age  \\\n",
       "0  20080828074  1219102233       0  20080828074_1219102233     0    1   \n",
       "1  20080851125  1219110304       6  20080851125_1219110304     0    1   \n",
       "2  20080820760  1219151095       0  20080820760_1219151095     0    1   \n",
       "3  20080824760  1219295837       5  20080824760_1219295837     0    2   \n",
       "4  20080883177  1219209257       4  20080883177_1219209257     0    1   \n",
       "\n",
       "   VintageMonths  NumberOfArticlesBySameAuthor  \\\n",
       "0             25                            88   \n",
       "1             12                            37   \n",
       "2             23                           156   \n",
       "3              9                             3   \n",
       "4             16                             2   \n",
       "\n",
       "   NumberOfArticlesinSameCategory Vint  CategoricalVint  \n",
       "0                             289    M                2  \n",
       "1                             465    Y                1  \n",
       "2                             187    M                2  \n",
       "3                             159   VY                0  \n",
       "4                             161    Y                1  "
      ]
     },
     "execution_count": 33,
     "metadata": {},
     "output_type": "execute_result"
    }
   ],
   "source": [
    "ftrain.head()"
   ]
  },
  {
   "cell_type": "code",
   "execution_count": 34,
   "metadata": {
    "collapsed": false
   },
   "outputs": [
    {
     "data": {
      "text/html": [
       "<div>\n",
       "<table border=\"1\" class=\"dataframe\">\n",
       "  <thead>\n",
       "    <tr style=\"text-align: right;\">\n",
       "      <th></th>\n",
       "      <th>User_ID</th>\n",
       "      <th>Article_ID</th>\n",
       "      <th>ID</th>\n",
       "    </tr>\n",
       "  </thead>\n",
       "  <tbody>\n",
       "    <tr>\n",
       "      <th>0</th>\n",
       "      <td>20080822161</td>\n",
       "      <td>1219173561</td>\n",
       "      <td>20080822161_1219173561</td>\n",
       "    </tr>\n",
       "    <tr>\n",
       "      <th>1</th>\n",
       "      <td>20080839116</td>\n",
       "      <td>1219217951</td>\n",
       "      <td>20080839116_1219217951</td>\n",
       "    </tr>\n",
       "    <tr>\n",
       "      <th>2</th>\n",
       "      <td>20080831336</td>\n",
       "      <td>1219224091</td>\n",
       "      <td>20080831336_1219224091</td>\n",
       "    </tr>\n",
       "    <tr>\n",
       "      <th>3</th>\n",
       "      <td>20080820936</td>\n",
       "      <td>1219186943</td>\n",
       "      <td>20080820936_1219186943</td>\n",
       "    </tr>\n",
       "    <tr>\n",
       "      <th>4</th>\n",
       "      <td>20080823287</td>\n",
       "      <td>1219165896</td>\n",
       "      <td>20080823287_1219165896</td>\n",
       "    </tr>\n",
       "  </tbody>\n",
       "</table>\n",
       "</div>"
      ],
      "text/plain": [
       "       User_ID  Article_ID                      ID\n",
       "0  20080822161  1219173561  20080822161_1219173561\n",
       "1  20080839116  1219217951  20080839116_1219217951\n",
       "2  20080831336  1219224091  20080831336_1219224091\n",
       "3  20080820936  1219186943  20080820936_1219186943\n",
       "4  20080823287  1219165896  20080823287_1219165896"
      ]
     },
     "execution_count": 34,
     "metadata": {},
     "output_type": "execute_result"
    }
   ],
   "source": [
    "test.head()"
   ]
  },
  {
   "cell_type": "code",
   "execution_count": 35,
   "metadata": {
    "collapsed": false
   },
   "outputs": [
    {
     "name": "stdout",
     "output_type": "stream",
     "text": [
      "Shape of the dataset is : (291023, 3)\n",
      "No.of Null in User_ID:- 0\n",
      "No.of Null in Article_ID:- 0\n"
     ]
    }
   ],
   "source": [
    "print 'Shape of the dataset is :', test.shape\n",
    "print 'No.of Null in User_ID:-', sum(pd.isnull(test['User_ID']))\n",
    "print 'No.of Null in Article_ID:-', sum(pd.isnull(test['Article_ID']))"
   ]
  },
  {
   "cell_type": "code",
   "execution_count": 36,
   "metadata": {
    "collapsed": false
   },
   "outputs": [],
   "source": [
    "y_train = ftrain['Rating'].ravel()\n",
    "fftrain = ftrain.drop(['ID','Vint','VintageMonths','Rating', 'User_ID', 'Article_ID'], axis=1)         # data: Features\n",
    "x_train = fftrain.values"
   ]
  },
  {
   "cell_type": "code",
   "execution_count": 37,
   "metadata": {
    "collapsed": false
   },
   "outputs": [
    {
     "data": {
      "text/html": [
       "<div>\n",
       "<table border=\"1\" class=\"dataframe\">\n",
       "  <thead>\n",
       "    <tr style=\"text-align: right;\">\n",
       "      <th></th>\n",
       "      <th>Var1</th>\n",
       "      <th>Age</th>\n",
       "      <th>NumberOfArticlesBySameAuthor</th>\n",
       "      <th>NumberOfArticlesinSameCategory</th>\n",
       "      <th>CategoricalVint</th>\n",
       "    </tr>\n",
       "  </thead>\n",
       "  <tbody>\n",
       "    <tr>\n",
       "      <th>0</th>\n",
       "      <td>0</td>\n",
       "      <td>1</td>\n",
       "      <td>88</td>\n",
       "      <td>289</td>\n",
       "      <td>2</td>\n",
       "    </tr>\n",
       "    <tr>\n",
       "      <th>1</th>\n",
       "      <td>0</td>\n",
       "      <td>1</td>\n",
       "      <td>37</td>\n",
       "      <td>465</td>\n",
       "      <td>1</td>\n",
       "    </tr>\n",
       "    <tr>\n",
       "      <th>2</th>\n",
       "      <td>0</td>\n",
       "      <td>1</td>\n",
       "      <td>156</td>\n",
       "      <td>187</td>\n",
       "      <td>2</td>\n",
       "    </tr>\n",
       "    <tr>\n",
       "      <th>3</th>\n",
       "      <td>0</td>\n",
       "      <td>2</td>\n",
       "      <td>3</td>\n",
       "      <td>159</td>\n",
       "      <td>0</td>\n",
       "    </tr>\n",
       "    <tr>\n",
       "      <th>4</th>\n",
       "      <td>0</td>\n",
       "      <td>1</td>\n",
       "      <td>2</td>\n",
       "      <td>161</td>\n",
       "      <td>1</td>\n",
       "    </tr>\n",
       "  </tbody>\n",
       "</table>\n",
       "</div>"
      ],
      "text/plain": [
       "   Var1  Age  NumberOfArticlesBySameAuthor  NumberOfArticlesinSameCategory  \\\n",
       "0     0    1                            88                             289   \n",
       "1     0    1                            37                             465   \n",
       "2     0    1                           156                             187   \n",
       "3     0    2                             3                             159   \n",
       "4     0    1                             2                             161   \n",
       "\n",
       "   CategoricalVint  \n",
       "0                2  \n",
       "1                1  \n",
       "2                2  \n",
       "3                0  \n",
       "4                1  "
      ]
     },
     "execution_count": 37,
     "metadata": {},
     "output_type": "execute_result"
    }
   ],
   "source": [
    "fftrain.head()"
   ]
  },
  {
   "cell_type": "code",
   "execution_count": 38,
   "metadata": {
    "collapsed": false
   },
   "outputs": [],
   "source": [
    "from sklearn.svm import SVC\n",
    "from sklearn.model_selection import GridSearchCV\n",
    "from sklearn.model_selection import StratifiedKFold\n",
    "from sklearn.preprocessing import LabelEncoder"
   ]
  },
  {
   "cell_type": "code",
   "execution_count": 39,
   "metadata": {
    "collapsed": false
   },
   "outputs": [
    {
     "data": {
      "text/html": [
       "<div>\n",
       "<table border=\"1\" class=\"dataframe\">\n",
       "  <thead>\n",
       "    <tr style=\"text-align: right;\">\n",
       "      <th></th>\n",
       "      <th>User_ID</th>\n",
       "      <th>Article_ID</th>\n",
       "      <th>ID</th>\n",
       "    </tr>\n",
       "  </thead>\n",
       "  <tbody>\n",
       "    <tr>\n",
       "      <th>0</th>\n",
       "      <td>20080822161</td>\n",
       "      <td>1219173561</td>\n",
       "      <td>20080822161_1219173561</td>\n",
       "    </tr>\n",
       "    <tr>\n",
       "      <th>1</th>\n",
       "      <td>20080839116</td>\n",
       "      <td>1219217951</td>\n",
       "      <td>20080839116_1219217951</td>\n",
       "    </tr>\n",
       "    <tr>\n",
       "      <th>2</th>\n",
       "      <td>20080831336</td>\n",
       "      <td>1219224091</td>\n",
       "      <td>20080831336_1219224091</td>\n",
       "    </tr>\n",
       "    <tr>\n",
       "      <th>3</th>\n",
       "      <td>20080820936</td>\n",
       "      <td>1219186943</td>\n",
       "      <td>20080820936_1219186943</td>\n",
       "    </tr>\n",
       "    <tr>\n",
       "      <th>4</th>\n",
       "      <td>20080823287</td>\n",
       "      <td>1219165896</td>\n",
       "      <td>20080823287_1219165896</td>\n",
       "    </tr>\n",
       "  </tbody>\n",
       "</table>\n",
       "</div>"
      ],
      "text/plain": [
       "       User_ID  Article_ID                      ID\n",
       "0  20080822161  1219173561  20080822161_1219173561\n",
       "1  20080839116  1219217951  20080839116_1219217951\n",
       "2  20080831336  1219224091  20080831336_1219224091\n",
       "3  20080820936  1219186943  20080820936_1219186943\n",
       "4  20080823287  1219165896  20080823287_1219165896"
      ]
     },
     "execution_count": 39,
     "metadata": {},
     "output_type": "execute_result"
    }
   ],
   "source": [
    "test.head()"
   ]
  },
  {
   "cell_type": "code",
   "execution_count": 40,
   "metadata": {
    "collapsed": true
   },
   "outputs": [],
   "source": [
    "ntest = test.merge(user, on='User_ID', how='left')"
   ]
  },
  {
   "cell_type": "code",
   "execution_count": 41,
   "metadata": {
    "collapsed": true
   },
   "outputs": [],
   "source": [
    "ftest = ntest.merge(article, on='Article_ID', how='left')"
   ]
  },
  {
   "cell_type": "code",
   "execution_count": 42,
   "metadata": {
    "collapsed": false
   },
   "outputs": [
    {
     "data": {
      "text/html": [
       "<div>\n",
       "<table border=\"1\" class=\"dataframe\">\n",
       "  <thead>\n",
       "    <tr style=\"text-align: right;\">\n",
       "      <th></th>\n",
       "      <th>User_ID</th>\n",
       "      <th>Article_ID</th>\n",
       "      <th>ID</th>\n",
       "      <th>Var1</th>\n",
       "      <th>Age</th>\n",
       "      <th>VintageMonths</th>\n",
       "      <th>NumberOfArticlesBySameAuthor</th>\n",
       "      <th>NumberOfArticlesinSameCategory</th>\n",
       "    </tr>\n",
       "  </thead>\n",
       "  <tbody>\n",
       "    <tr>\n",
       "      <th>0</th>\n",
       "      <td>20080822161</td>\n",
       "      <td>1219173561</td>\n",
       "      <td>20080822161_1219173561</td>\n",
       "      <td>A</td>\n",
       "      <td>60-70</td>\n",
       "      <td>15</td>\n",
       "      <td>37</td>\n",
       "      <td>355</td>\n",
       "    </tr>\n",
       "    <tr>\n",
       "      <th>1</th>\n",
       "      <td>20080839116</td>\n",
       "      <td>1219217951</td>\n",
       "      <td>20080839116_1219217951</td>\n",
       "      <td>A</td>\n",
       "      <td>20-30</td>\n",
       "      <td>12</td>\n",
       "      <td>4</td>\n",
       "      <td>169</td>\n",
       "    </tr>\n",
       "    <tr>\n",
       "      <th>2</th>\n",
       "      <td>20080831336</td>\n",
       "      <td>1219224091</td>\n",
       "      <td>20080831336_1219224091</td>\n",
       "      <td>I</td>\n",
       "      <td>30-40</td>\n",
       "      <td>11</td>\n",
       "      <td>47</td>\n",
       "      <td>124</td>\n",
       "    </tr>\n",
       "    <tr>\n",
       "      <th>3</th>\n",
       "      <td>20080820936</td>\n",
       "      <td>1219186943</td>\n",
       "      <td>20080820936_1219186943</td>\n",
       "      <td>A</td>\n",
       "      <td>30-40</td>\n",
       "      <td>12</td>\n",
       "      <td>29</td>\n",
       "      <td>416</td>\n",
       "    </tr>\n",
       "    <tr>\n",
       "      <th>4</th>\n",
       "      <td>20080823287</td>\n",
       "      <td>1219165896</td>\n",
       "      <td>20080823287_1219165896</td>\n",
       "      <td>L</td>\n",
       "      <td>30-40</td>\n",
       "      <td>9</td>\n",
       "      <td>96</td>\n",
       "      <td>210</td>\n",
       "    </tr>\n",
       "  </tbody>\n",
       "</table>\n",
       "</div>"
      ],
      "text/plain": [
       "       User_ID  Article_ID                      ID Var1    Age VintageMonths  \\\n",
       "0  20080822161  1219173561  20080822161_1219173561    A  60-70            15   \n",
       "1  20080839116  1219217951  20080839116_1219217951    A  20-30            12   \n",
       "2  20080831336  1219224091  20080831336_1219224091    I  30-40            11   \n",
       "3  20080820936  1219186943  20080820936_1219186943    A  30-40            12   \n",
       "4  20080823287  1219165896  20080823287_1219165896    L  30-40             9   \n",
       "\n",
       "   NumberOfArticlesBySameAuthor  NumberOfArticlesinSameCategory  \n",
       "0                            37                             355  \n",
       "1                             4                             169  \n",
       "2                            47                             124  \n",
       "3                            29                             416  \n",
       "4                            96                             210  "
      ]
     },
     "execution_count": 42,
     "metadata": {},
     "output_type": "execute_result"
    }
   ],
   "source": [
    "ftest.head()"
   ]
  },
  {
   "cell_type": "code",
   "execution_count": 43,
   "metadata": {
    "collapsed": true
   },
   "outputs": [],
   "source": [
    "ftest['Var1'] =ftest['Var1'].replace(['L','J','K','R','M','G', 'N', 'Q', 'V', 'P', 'S', 'O', 'U','T','W'], 'Lowers')"
   ]
  },
  {
   "cell_type": "code",
   "execution_count": 44,
   "metadata": {
    "collapsed": false
   },
   "outputs": [],
   "source": [
    "ftest['Var1'] = ftest['Var1'].map({'A':0, 'B':1, 'C':2, 'D':3, 'E':4, 'F':5, 'I':6, 'Lowers':7, 'Other':8}).astype(int)"
   ]
  },
  {
   "cell_type": "code",
   "execution_count": 45,
   "metadata": {
    "collapsed": true
   },
   "outputs": [],
   "source": [
    "ftest['Age'] = ftest['Age'].map( {'unknown': 0, '30-40': 1, '20-30': 2, '40-50': 3, '50-60': 4, '15-20':5, '60-70':6, 'Less tha 15': 7, 'More than 70':8} ).astype(int)"
   ]
  },
  {
   "cell_type": "code",
   "execution_count": 46,
   "metadata": {
    "collapsed": true
   },
   "outputs": [],
   "source": [
    "ftest['Vint'] = ftest.apply(lambda row: Vint(row), axis=1)"
   ]
  },
  {
   "cell_type": "code",
   "execution_count": 47,
   "metadata": {
    "collapsed": true
   },
   "outputs": [],
   "source": [
    "ftest['CategoricalVint'] = ftest['Vint'].map( {'VY': 0, 'Y': 1, 'M': 2, 'O': 3, 'VO': 4} ).astype(int)"
   ]
  },
  {
   "cell_type": "code",
   "execution_count": 48,
   "metadata": {
    "collapsed": false
   },
   "outputs": [
    {
     "data": {
      "text/plain": [
       "(291023, 10)"
      ]
     },
     "execution_count": 48,
     "metadata": {},
     "output_type": "execute_result"
    }
   ],
   "source": [
    "ftest.shape"
   ]
  },
  {
   "cell_type": "code",
   "execution_count": 49,
   "metadata": {
    "collapsed": true
   },
   "outputs": [],
   "source": [
    "fftest = ftest.drop(['ID','Vint','VintageMonths','User_ID','Article_ID'], axis=1)         # data: Features\n",
    "x_test = fftest.values"
   ]
  },
  {
   "cell_type": "code",
   "execution_count": 50,
   "metadata": {
    "collapsed": false
   },
   "outputs": [
    {
     "data": {
      "text/html": [
       "<div>\n",
       "<table border=\"1\" class=\"dataframe\">\n",
       "  <thead>\n",
       "    <tr style=\"text-align: right;\">\n",
       "      <th></th>\n",
       "      <th>Var1</th>\n",
       "      <th>Age</th>\n",
       "      <th>NumberOfArticlesBySameAuthor</th>\n",
       "      <th>NumberOfArticlesinSameCategory</th>\n",
       "      <th>CategoricalVint</th>\n",
       "    </tr>\n",
       "  </thead>\n",
       "  <tbody>\n",
       "    <tr>\n",
       "      <th>0</th>\n",
       "      <td>0</td>\n",
       "      <td>6</td>\n",
       "      <td>37</td>\n",
       "      <td>355</td>\n",
       "      <td>1</td>\n",
       "    </tr>\n",
       "    <tr>\n",
       "      <th>1</th>\n",
       "      <td>0</td>\n",
       "      <td>2</td>\n",
       "      <td>4</td>\n",
       "      <td>169</td>\n",
       "      <td>1</td>\n",
       "    </tr>\n",
       "    <tr>\n",
       "      <th>2</th>\n",
       "      <td>6</td>\n",
       "      <td>1</td>\n",
       "      <td>47</td>\n",
       "      <td>124</td>\n",
       "      <td>1</td>\n",
       "    </tr>\n",
       "    <tr>\n",
       "      <th>3</th>\n",
       "      <td>0</td>\n",
       "      <td>1</td>\n",
       "      <td>29</td>\n",
       "      <td>416</td>\n",
       "      <td>1</td>\n",
       "    </tr>\n",
       "    <tr>\n",
       "      <th>4</th>\n",
       "      <td>7</td>\n",
       "      <td>1</td>\n",
       "      <td>96</td>\n",
       "      <td>210</td>\n",
       "      <td>0</td>\n",
       "    </tr>\n",
       "  </tbody>\n",
       "</table>\n",
       "</div>"
      ],
      "text/plain": [
       "   Var1  Age  NumberOfArticlesBySameAuthor  NumberOfArticlesinSameCategory  \\\n",
       "0     0    6                            37                             355   \n",
       "1     0    2                             4                             169   \n",
       "2     6    1                            47                             124   \n",
       "3     0    1                            29                             416   \n",
       "4     7    1                            96                             210   \n",
       "\n",
       "   CategoricalVint  \n",
       "0                1  \n",
       "1                1  \n",
       "2                1  \n",
       "3                1  \n",
       "4                0  "
      ]
     },
     "execution_count": 50,
     "metadata": {},
     "output_type": "execute_result"
    }
   ],
   "source": [
    "fftest.head()"
   ]
  },
  {
   "cell_type": "code",
   "execution_count": null,
   "metadata": {
    "collapsed": false
   },
   "outputs": [],
   "source": [
    "# trianing and fitting\n",
    "clf = SVC(kernel='rbf', C=1000)\n",
    "clf.fit(x_train, y_train)\n",
    "pred = clf.predict(x_test)"
   ]
  },
  {
   "cell_type": "code",
   "execution_count": 103,
   "metadata": {
    "collapsed": false
   },
   "outputs": [],
   "source": [
    "final_sub = pd.DataFrame({ 'ID': test.ID,'Rating': pred })\n",
    "final_sub.to_csv(\"/Users/viswanathravindran/AVDatahack/NewsArticle/Out2.csv\", index=False)"
   ]
  },
  {
   "cell_type": "code",
   "execution_count": null,
   "metadata": {
    "collapsed": true
   },
   "outputs": [],
   "source": []
  }
 ],
 "metadata": {
  "kernelspec": {
   "display_name": "Python 2",
   "language": "python",
   "name": "python2"
  },
  "language_info": {
   "codemirror_mode": {
    "name": "ipython",
    "version": 2
   },
   "file_extension": ".py",
   "mimetype": "text/x-python",
   "name": "python",
   "nbconvert_exporter": "python",
   "pygments_lexer": "ipython2",
   "version": "2.7.13"
  }
 },
 "nbformat": 4,
 "nbformat_minor": 2
}
