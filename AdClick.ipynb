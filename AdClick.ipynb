{
 "cells": [
  {
   "cell_type": "code",
   "execution_count": 1,
   "metadata": {
    "collapsed": true
   },
   "outputs": [],
   "source": [
    "import pandas as pd\n",
    "import numpy as np\n",
    "import matplotlib.pyplot as plt\n",
    "import seaborn as sns"
   ]
  },
  {
   "cell_type": "code",
   "execution_count": 43,
   "metadata": {
    "collapsed": true
   },
   "outputs": [],
   "source": [
    "# Importing the part df\n",
    "\"\"\"\n",
    "date_parser = pd.datetools.to_datetime\n",
    "headers = ['ID', 'Country', 'Carrier', 'TrafficType', 'ClickDate', 'Device', 'Browser', 'OS', \n",
    "          'RefererUrl', 'UserIp', 'ConversionStatus', 'ConversionDate', 'ConversionPayOut', \n",
    "           'publisherId', 'subPublisherId', 'advertiserCampaignId', 'Fraud']\n",
    "dtypes = {'col1': 'str', 'col2': 'str', 'col3': 'str', 'col4': 'float'}\n",
    "parse_dates = ['ClickDate']\n",
    "\"\"\"\n",
    "PartTrndf = pd.read_csv('train.csv', nrows=100000, low_memory=False)"
   ]
  },
  {
   "cell_type": "code",
   "execution_count": null,
   "metadata": {
    "collapsed": true
   },
   "outputs": [],
   "source": [
    "\"\"\"\n",
    "print ('The shape of the Full training Data is: ', FullTrndf.shape)\n",
    "# Segregate only the Converted Data Set\n",
    "ConvTrndf = FullTrndf[FullTrndf.ConversionStatus==True]\n",
    "print ('The shape of the Converted Training Data is: ', ConvTrndf.shape)\n",
    "print ('The Percentage of convertion is: ', ((ConvTrndf.shape[0] / FullTrndf.shape[0])*100))\n",
    "\"\"\""
   ]
  },
  {
   "cell_type": "code",
   "execution_count": null,
   "metadata": {
    "collapsed": true
   },
   "outputs": [],
   "source": [
    "\"\"\"\n",
    "print ('There are about', FullTrndf.Country.nunique(), 'unique Country available in the training data')\n",
    "print ('The top 5 share of Country in the training data are as below:')\n",
    "print (FullTrndf.Country.value_counts(normalize =  True, sort=True, ascending=False).head(5))\n",
    "print (\"--------------------------------------------------------------------------------------------------\")\n",
    "print ('There are about', FullTrndf.Carrier.nunique(), 'unique Carrier available in the training data')\n",
    "print ('The top 3 share of Carrier in the training data are as below:')\n",
    "print (FullTrndf.Carrier.value_counts(normalize =  True, sort=True, ascending=False).head(3))\n",
    "print (\"--------------------------------------------------------------------------------------------------\")\n",
    "print ('There are about', FullTrndf.TrafficType.nunique(), 'unique TrafficType available in the training data')\n",
    "print ('The count of TrafficType in the training data are as below:')\n",
    "print (FullTrndf.TrafficType.value_counts(normalize =  True, sort=True, ascending=False))\n",
    "print (\"--------------------------------------------------------------------------------------------------\")\n",
    "print ('There are about', FullTrndf.Device.nunique(), 'unique Device available in the training data')\n",
    "print ('The top 3 share of Device in the training data are as below:')\n",
    "print (FullTrndf.Device.value_counts(normalize =  True, sort=True, ascending=False).head(3))\n",
    "print (\"--------------------------------------------------------------------------------------------------\")\n",
    "print ('There are about', FullTrndf.Browser.nunique(), 'unique Browser available in the training data')\n",
    "print ('The top 3 share of Browser in the training data are as below:')\n",
    "print (FullTrndf.Browser.value_counts(normalize =  True, sort=True, ascending=False).head(3))\n",
    "print (\"--------------------------------------------------------------------------------------------------\")\n",
    "print ('There are about', FullTrndf.OS.nunique(), 'unique OS available in the training data')\n",
    "print ('The top 3 share of OS in the training data are as below:')\n",
    "print (FullTrndf.OS.value_counts(normalize =  True, sort=True, ascending=False).head(3))\n",
    "\"\"\""
   ]
  },
  {
   "cell_type": "raw",
   "metadata": {},
   "source": [
    "Moved the Full dataset observation further below however developing the model  with the first 10000 rows\n",
    "Observations:\n",
    "The shape of the Full training Data is:  (63367217, 17)\n",
    "The shape of the Converted Training Data is:  (34524, 17)\n",
    "The Percentage of convertion is:  0.054482430560269045\n",
    "There are about 232 unique Country available in the training data\n",
    "The top 5 share of Country in the training data are as below:\n",
    "IN    0.311474\n",
    "TH    0.099770\n",
    "BD    0.095609\n",
    "ID    0.084199\n",
    "RU    0.036145\n",
    "\n",
    "Name: Country, dtype: float64\n",
    "--------------------------------------------------------------------------------------------------\n",
    "There are about 383 unique Carrier available in the training data\n",
    "The top 3 share of Carrier in the training data are as below:\n",
    "-1.0      0.309367\n",
    " 1.0      0.072037\n",
    " 121.0    0.065925\n",
    "\n",
    "Name: Carrier, dtype: float64\n",
    "--------------------------------------------------------------------------------------------------\n",
    "There are about 2 unique TrafficType available in the training data\n",
    "The count of TrafficType in the training data are as below:\n",
    "A    0.680448\n",
    "M    0.319552\n",
    "\n",
    "Name: TrafficType, dtype: float64\n",
    "--------------------------------------------------------------------------------------------------\n",
    "There are about 1302 unique Device available in the training data\n",
    "The top 3 share of Device in the training data are as below:\n",
    "Generic    0.486809\n",
    "Samsung    0.154218\n",
    "Lenovo     0.036442\n",
    "\n",
    "Name: Device, dtype: float64\n",
    "--------------------------------------------------------------------------------------------------\n",
    "There are about 40 unique Browser available in the training data\n",
    "The top 3 share of Browser in the training data are as below:\n",
    "android_webkit    0.468677\n",
    "chrome            0.411411\n",
    "46.0.2490.76      0.066501\n",
    "\n",
    "Name: Browser, dtype: float64\n",
    "--------------------------------------------------------------------------------------------------\n",
    "There are about 20 unique OS available in the training data\n",
    "The top 3 share of OS in the training data are as below:\n",
    "Android    0.983829\n",
    "iOS        0.011286\n",
    "Desktop    0.003755\n",
    "\n",
    "Name: OS, dtype: float64"
   ]
  },
  {
   "cell_type": "code",
   "execution_count": 44,
   "metadata": {},
   "outputs": [
    {
     "data": {
      "text/plain": [
       "(100000, 17)"
      ]
     },
     "execution_count": 44,
     "metadata": {},
     "output_type": "execute_result"
    }
   ],
   "source": [
    "PartTrndf.shape"
   ]
  },
  {
   "cell_type": "code",
   "execution_count": 45,
   "metadata": {
    "collapsed": true
   },
   "outputs": [],
   "source": [
    "All_y = PartTrndf[['ConversionStatus','ConversionDate','ConversionPayOut']]"
   ]
  },
  {
   "cell_type": "code",
   "execution_count": 62,
   "metadata": {},
   "outputs": [
    {
     "name": "stdout",
     "output_type": "stream",
     "text": [
      "Disntict count of advertiserCampaignId is:  259\n",
      "Disntict count of publisherId is:  826\n",
      "Disntict count of UserIp is:  78646\n",
      "Disntict count of Carrier is:  239\n"
     ]
    }
   ],
   "source": [
    "print ('Disntict count of advertiserCampaignId is: ', PartTrndf.advertiserCampaignId.nunique())\n",
    "print ('Disntict count of publisherId is: ', PartTrndf.publisherId.nunique())\n",
    "print ('Disntict count of UserIp is: ', PartTrndf.UserIp.nunique())\n",
    "print ('Disntict count of Carrier is: ', PartTrndf.Carrier.nunique())"
   ]
  },
  {
   "cell_type": "code",
   "execution_count": 46,
   "metadata": {
    "collapsed": true
   },
   "outputs": [],
   "source": [
    "# Removing the variables that are part of Y\n",
    "del PartTrndf['ConversionStatus'], PartTrndf['ConversionDate'], PartTrndf['ConversionPayOut']\n",
    "# Removing the variables that we will not be using\n",
    "del PartTrndf['subPublisherId'], PartTrndf['RefererUrl'], PartTrndf['Device'], PartTrndf['UserIp']"
   ]
  },
  {
   "cell_type": "code",
   "execution_count": 47,
   "metadata": {},
   "outputs": [
    {
     "data": {
      "text/plain": [
       "(100000, 11)"
      ]
     },
     "execution_count": 47,
     "metadata": {},
     "output_type": "execute_result"
    }
   ],
   "source": [
    "PartTrndf.shape"
   ]
  },
  {
   "cell_type": "code",
   "execution_count": 48,
   "metadata": {},
   "outputs": [
    {
     "data": {
      "text/html": [
       "<div>\n",
       "<style>\n",
       "    .dataframe thead tr:only-child th {\n",
       "        text-align: right;\n",
       "    }\n",
       "\n",
       "    .dataframe thead th {\n",
       "        text-align: left;\n",
       "    }\n",
       "\n",
       "    .dataframe tbody tr th {\n",
       "        vertical-align: top;\n",
       "    }\n",
       "</style>\n",
       "<table border=\"1\" class=\"dataframe\">\n",
       "  <thead>\n",
       "    <tr style=\"text-align: right;\">\n",
       "      <th></th>\n",
       "      <th>ID</th>\n",
       "      <th>Country</th>\n",
       "      <th>Carrier</th>\n",
       "      <th>TrafficType</th>\n",
       "      <th>ClickDate</th>\n",
       "      <th>Browser</th>\n",
       "      <th>OS</th>\n",
       "      <th>UserIp</th>\n",
       "      <th>publisherId</th>\n",
       "      <th>advertiserCampaignId</th>\n",
       "      <th>Fraud</th>\n",
       "    </tr>\n",
       "  </thead>\n",
       "  <tbody>\n",
       "    <tr>\n",
       "      <th>0</th>\n",
       "      <td>0</td>\n",
       "      <td>IN</td>\n",
       "      <td>2.0</td>\n",
       "      <td>M</td>\n",
       "      <td>2017-08-21 00:00:01</td>\n",
       "      <td>chrome</td>\n",
       "      <td>Android</td>\n",
       "      <td>42.111.171.131</td>\n",
       "      <td>69</td>\n",
       "      <td>6555.0</td>\n",
       "      <td>0.0</td>\n",
       "    </tr>\n",
       "    <tr>\n",
       "      <th>1</th>\n",
       "      <td>1</td>\n",
       "      <td>TH</td>\n",
       "      <td>27.0</td>\n",
       "      <td>A</td>\n",
       "      <td>2017-08-21 00:00:01</td>\n",
       "      <td>46.0.2490.76</td>\n",
       "      <td>Android</td>\n",
       "      <td>1.46.235.65</td>\n",
       "      <td>646</td>\n",
       "      <td>7510.0</td>\n",
       "      <td>0.0</td>\n",
       "    </tr>\n",
       "    <tr>\n",
       "      <th>2</th>\n",
       "      <td>2</td>\n",
       "      <td>IN</td>\n",
       "      <td>4.0</td>\n",
       "      <td>M</td>\n",
       "      <td>2017-08-21 00:00:01</td>\n",
       "      <td>chromium</td>\n",
       "      <td>Android</td>\n",
       "      <td>49.15.91.224</td>\n",
       "      <td>301</td>\n",
       "      <td>12696.0</td>\n",
       "      <td>0.0</td>\n",
       "    </tr>\n",
       "    <tr>\n",
       "      <th>3</th>\n",
       "      <td>3</td>\n",
       "      <td>PH</td>\n",
       "      <td>-1.0</td>\n",
       "      <td>A</td>\n",
       "      <td>2017-08-21 00:00:01</td>\n",
       "      <td>android_webkit</td>\n",
       "      <td>Android</td>\n",
       "      <td>115.42.126.86</td>\n",
       "      <td>242</td>\n",
       "      <td>735.0</td>\n",
       "      <td>0.0</td>\n",
       "    </tr>\n",
       "    <tr>\n",
       "      <th>4</th>\n",
       "      <td>4</td>\n",
       "      <td>MX</td>\n",
       "      <td>-1.0</td>\n",
       "      <td>NaN</td>\n",
       "      <td>2017-08-21 00:00:01</td>\n",
       "      <td>chrome</td>\n",
       "      <td>Android</td>\n",
       "      <td>187.161.11.97</td>\n",
       "      <td>1306</td>\n",
       "      <td>7802.0</td>\n",
       "      <td>0.0</td>\n",
       "    </tr>\n",
       "  </tbody>\n",
       "</table>\n",
       "</div>"
      ],
      "text/plain": [
       "   ID Country  Carrier TrafficType            ClickDate         Browser  \\\n",
       "0   0      IN      2.0           M  2017-08-21 00:00:01          chrome   \n",
       "1   1      TH     27.0           A  2017-08-21 00:00:01    46.0.2490.76   \n",
       "2   2      IN      4.0           M  2017-08-21 00:00:01        chromium   \n",
       "3   3      PH     -1.0           A  2017-08-21 00:00:01  android_webkit   \n",
       "4   4      MX     -1.0         NaN  2017-08-21 00:00:01          chrome   \n",
       "\n",
       "        OS          UserIp publisherId  advertiserCampaignId  Fraud  \n",
       "0  Android  42.111.171.131          69                6555.0    0.0  \n",
       "1  Android     1.46.235.65         646                7510.0    0.0  \n",
       "2  Android    49.15.91.224         301               12696.0    0.0  \n",
       "3  Android   115.42.126.86         242                 735.0    0.0  \n",
       "4  Android   187.161.11.97        1306                7802.0    0.0  "
      ]
     },
     "execution_count": 48,
     "metadata": {},
     "output_type": "execute_result"
    }
   ],
   "source": [
    "PartTrndf.head()"
   ]
  },
  {
   "cell_type": "code",
   "execution_count": 49,
   "metadata": {},
   "outputs": [
    {
     "data": {
      "text/html": [
       "<div>\n",
       "<style>\n",
       "    .dataframe thead tr:only-child th {\n",
       "        text-align: right;\n",
       "    }\n",
       "\n",
       "    .dataframe thead th {\n",
       "        text-align: left;\n",
       "    }\n",
       "\n",
       "    .dataframe tbody tr th {\n",
       "        vertical-align: top;\n",
       "    }\n",
       "</style>\n",
       "<table border=\"1\" class=\"dataframe\">\n",
       "  <thead>\n",
       "    <tr style=\"text-align: right;\">\n",
       "      <th></th>\n",
       "      <th>Missing Ratio</th>\n",
       "    </tr>\n",
       "  </thead>\n",
       "  <tbody>\n",
       "    <tr>\n",
       "      <th>TrafficType</th>\n",
       "      <td>13.639</td>\n",
       "    </tr>\n",
       "    <tr>\n",
       "      <th>Country</th>\n",
       "      <td>0.545</td>\n",
       "    </tr>\n",
       "    <tr>\n",
       "      <th>OS</th>\n",
       "      <td>0.448</td>\n",
       "    </tr>\n",
       "    <tr>\n",
       "      <th>Browser</th>\n",
       "      <td>0.346</td>\n",
       "    </tr>\n",
       "  </tbody>\n",
       "</table>\n",
       "</div>"
      ],
      "text/plain": [
       "             Missing Ratio\n",
       "TrafficType         13.639\n",
       "Country              0.545\n",
       "OS                   0.448\n",
       "Browser              0.346"
      ]
     },
     "execution_count": 49,
     "metadata": {},
     "output_type": "execute_result"
    }
   ],
   "source": [
    "# Checking for the ratio of missing value\n",
    "PartTrndf_na = (PartTrndf.isnull().sum() / len(PartTrndf)) * 100\n",
    "PartTrndf_na = PartTrndf_na.drop(PartTrndf_na[PartTrndf_na == 0].index).sort_values(ascending=False)[:30]\n",
    "missing_data = pd.DataFrame({'Missing Ratio' :PartTrndf_na})\n",
    "missing_data.head(20)"
   ]
  },
  {
   "cell_type": "code",
   "execution_count": 50,
   "metadata": {},
   "outputs": [
    {
     "data": {
      "image/png": "[encoded data removed]",
      "text/plain": [
       "<matplotlib.figure.Figure at 0x115c0b7f0>"
      ]
     },
     "metadata": {},
     "output_type": "display_data"
    }
   ],
   "source": [
    "f, ax = plt.subplots(figsize=(6, 6))\n",
    "plt.xticks(rotation='90')\n",
    "sns.barplot(x=PartTrndf_na.index, y=PartTrndf_na)\n",
    "plt.xlabel('Features', fontsize=15)\n",
    "plt.ylabel('Percent of missing values', fontsize=15)\n",
    "plt.title('Percent missing data by feature', fontsize=15)\n",
    "plt.show()"
   ]
  },
  {
   "cell_type": "code",
   "execution_count": 51,
   "metadata": {
    "collapsed": true
   },
   "outputs": [],
   "source": [
    "# Replace the Missing value\n",
    "PartTrndf['TrafficType'] = PartTrndf.TrafficType.fillna('UN')\n",
    "PartTrndf['Country'] = PartTrndf.Country.fillna('UN')\n",
    "PartTrndf['Browser'] = PartTrndf.Browser.fillna('UN')\n",
    "PartTrndf['OS'] = PartTrndf.OS.fillna('UN')"
   ]
  },
  {
   "cell_type": "code",
   "execution_count": 52,
   "metadata": {},
   "outputs": [
    {
     "data": {
      "text/html": [
       "<div>\n",
       "<style>\n",
       "    .dataframe thead tr:only-child th {\n",
       "        text-align: right;\n",
       "    }\n",
       "\n",
       "    .dataframe thead th {\n",
       "        text-align: left;\n",
       "    }\n",
       "\n",
       "    .dataframe tbody tr th {\n",
       "        vertical-align: top;\n",
       "    }\n",
       "</style>\n",
       "<table border=\"1\" class=\"dataframe\">\n",
       "  <thead>\n",
       "    <tr style=\"text-align: right;\">\n",
       "      <th></th>\n",
       "      <th>Missing Ratio</th>\n",
       "    </tr>\n",
       "  </thead>\n",
       "  <tbody>\n",
       "  </tbody>\n",
       "</table>\n",
       "</div>"
      ],
      "text/plain": [
       "Empty DataFrame\n",
       "Columns: [Missing Ratio]\n",
       "Index: []"
      ]
     },
     "execution_count": 52,
     "metadata": {},
     "output_type": "execute_result"
    }
   ],
   "source": [
    "# Checking for the missing value details after the replacement\n",
    "# Checking for the ratio of missing value\n",
    "PartTrndf_na = (PartTrndf.isnull().sum() / len(PartTrndf)) * 100\n",
    "PartTrndf_na = PartTrndf_na.drop(PartTrndf_na[PartTrndf_na == 0].index).sort_values(ascending=False)[:30]\n",
    "missing_data = pd.DataFrame({'Missing Ratio' :PartTrndf_na})\n",
    "missing_data.head(20)"
   ]
  },
  {
   "cell_type": "code",
   "execution_count": 53,
   "metadata": {
    "collapsed": true
   },
   "outputs": [],
   "source": [
    "# Handing the ClickDate field as a Date\n",
    "PartTrndf['ClickDate'] = pd.to_datetime(PartTrndf['ClickDate'])\n",
    "#PartTrndf['ClickDate'] = pd.to_datetime(PartTrndf['ClickDate'])"
   ]
  },
  {
   "cell_type": "code",
   "execution_count": 54,
   "metadata": {},
   "outputs": [],
   "source": [
    "# Feature Enginerring to Create New variables for Day of Week and Day part\n",
    "PartTrndf['Weekday'] = (PartTrndf['ClickDate'].dt.dayofweek).astype(int)\n",
    "PartTrndf['Dayhour'] = (PartTrndf.ClickDate.apply(lambda x: x.hour)).astype(int)"
   ]
  },
  {
   "cell_type": "code",
   "execution_count": 55,
   "metadata": {
    "collapsed": true
   },
   "outputs": [],
   "source": [
    "# To remove Ordinality in both Weekday and DayHour variables convert into Categories\n",
    "PartTrndf['Weekday'] = PartTrndf['Weekday'].map( {0: 'Sun', 1: 'Mon', 2: 'Tue', 3: 'Wed',\n",
    "                                                  4: 'Thr', 5: 'Fri', 6: 'Sat'} ).astype(str)\n",
    "PartTrndf['Dayhour'] = PartTrndf['Dayhour'].map( {0: 'PrAM', 1: 'PrAM', 2: 'PrAM', 3: 'PrAM', \n",
    "                                                  4: 'PrAM', 5: 'PrAM', 6: 'AM', 7: 'AM', 8: 'AM', 9: 'AM', \n",
    "                                                  10: 'AM', 11: 'AM', 12: 'PM', 13: 'PM', 14: 'PM', 15: 'PM', \n",
    "                                                  16: 'PM', 17: 'PM', 18: 'PM', 19: 'PoPM', 20: 'PoPM', \n",
    "                                                  21: 'PoPM', 22: 'PoPM', 23: 'PoPM',} ).astype(str)\n",
    "# Delete the Click Date varaible\n",
    "del PartTrndf['ClickDate']"
   ]
  },
  {
   "cell_type": "code",
   "execution_count": 65,
   "metadata": {},
   "outputs": [],
   "source": [
    "del PartTrndf['Carrier'], PartTrndf['UserIp'], PartTrndf['publisherId'], PartTrndf['advertiserCampaignId']"
   ]
  },
  {
   "cell_type": "code",
   "execution_count": 66,
   "metadata": {},
   "outputs": [
    {
     "data": {
      "text/html": [
       "<div>\n",
       "<style>\n",
       "    .dataframe thead tr:only-child th {\n",
       "        text-align: right;\n",
       "    }\n",
       "\n",
       "    .dataframe thead th {\n",
       "        text-align: left;\n",
       "    }\n",
       "\n",
       "    .dataframe tbody tr th {\n",
       "        vertical-align: top;\n",
       "    }\n",
       "</style>\n",
       "<table border=\"1\" class=\"dataframe\">\n",
       "  <thead>\n",
       "    <tr style=\"text-align: right;\">\n",
       "      <th></th>\n",
       "      <th>ID</th>\n",
       "      <th>Country</th>\n",
       "      <th>TrafficType</th>\n",
       "      <th>Browser</th>\n",
       "      <th>OS</th>\n",
       "      <th>Fraud</th>\n",
       "      <th>Weekday</th>\n",
       "      <th>Dayhour</th>\n",
       "    </tr>\n",
       "  </thead>\n",
       "  <tbody>\n",
       "    <tr>\n",
       "      <th>0</th>\n",
       "      <td>0</td>\n",
       "      <td>IN</td>\n",
       "      <td>M</td>\n",
       "      <td>chrome</td>\n",
       "      <td>Android</td>\n",
       "      <td>0.0</td>\n",
       "      <td>Sun</td>\n",
       "      <td>PrAM</td>\n",
       "    </tr>\n",
       "    <tr>\n",
       "      <th>1</th>\n",
       "      <td>1</td>\n",
       "      <td>TH</td>\n",
       "      <td>A</td>\n",
       "      <td>46.0.2490.76</td>\n",
       "      <td>Android</td>\n",
       "      <td>0.0</td>\n",
       "      <td>Sun</td>\n",
       "      <td>PrAM</td>\n",
       "    </tr>\n",
       "    <tr>\n",
       "      <th>2</th>\n",
       "      <td>2</td>\n",
       "      <td>IN</td>\n",
       "      <td>M</td>\n",
       "      <td>chromium</td>\n",
       "      <td>Android</td>\n",
       "      <td>0.0</td>\n",
       "      <td>Sun</td>\n",
       "      <td>PrAM</td>\n",
       "    </tr>\n",
       "    <tr>\n",
       "      <th>3</th>\n",
       "      <td>3</td>\n",
       "      <td>PH</td>\n",
       "      <td>A</td>\n",
       "      <td>android_webkit</td>\n",
       "      <td>Android</td>\n",
       "      <td>0.0</td>\n",
       "      <td>Sun</td>\n",
       "      <td>PrAM</td>\n",
       "    </tr>\n",
       "    <tr>\n",
       "      <th>4</th>\n",
       "      <td>4</td>\n",
       "      <td>MX</td>\n",
       "      <td>UN</td>\n",
       "      <td>chrome</td>\n",
       "      <td>Android</td>\n",
       "      <td>0.0</td>\n",
       "      <td>Sun</td>\n",
       "      <td>PrAM</td>\n",
       "    </tr>\n",
       "  </tbody>\n",
       "</table>\n",
       "</div>"
      ],
      "text/plain": [
       "   ID Country TrafficType         Browser       OS  Fraud Weekday Dayhour\n",
       "0   0      IN           M          chrome  Android    0.0     Sun    PrAM\n",
       "1   1      TH           A    46.0.2490.76  Android    0.0     Sun    PrAM\n",
       "2   2      IN           M        chromium  Android    0.0     Sun    PrAM\n",
       "3   3      PH           A  android_webkit  Android    0.0     Sun    PrAM\n",
       "4   4      MX          UN          chrome  Android    0.0     Sun    PrAM"
      ]
     },
     "execution_count": 66,
     "metadata": {},
     "output_type": "execute_result"
    }
   ],
   "source": [
    "PartTrndf.head()"
   ]
  },
  {
   "cell_type": "code",
   "execution_count": null,
   "metadata": {
    "collapsed": true
   },
   "outputs": [],
   "source": []
  },
  {
   "cell_type": "code",
   "execution_count": null,
   "metadata": {
    "collapsed": true
   },
   "outputs": [],
   "source": []
  },
  {
   "cell_type": "code",
   "execution_count": null,
   "metadata": {
    "collapsed": true
   },
   "outputs": [],
   "source": []
  }
 ],
 "metadata": {
  "kernelspec": {
   "display_name": "Python 3",
   "language": "python",
   "name": "python3"
  },
  "language_info": {
   "codemirror_mode": {
    "name": "ipython",
    "version": 3
   },
   "file_extension": ".py",
   "mimetype": "text/x-python",
   "name": "python",
   "nbconvert_exporter": "python",
   "pygments_lexer": "ipython3",
   "version": "3.6.2"
  }
 },
 "nbformat": 4,
 "nbformat_minor": 2
}
